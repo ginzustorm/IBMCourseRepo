{
 "cells": [
  {
   "cell_type": "markdown",
   "id": "f5655f6f-a2e6-4501-a94f-839e3c5f522c",
   "metadata": {},
   "source": [
    "# Data Science Tools and Ecosystem"
   ]
  },
  {
   "cell_type": "markdown",
   "id": "507e50cc-a536-474b-afc0-5d76a79ec7c4",
   "metadata": {},
   "source": [
    "In this notebook, Data Science Tools and Ecosystem are summarized."
   ]
  },
  {
   "cell_type": "markdown",
   "id": "b5e71ae5-3cd2-4ffb-89d1-e86c3e69b0d3",
   "metadata": {},
   "source": [
    "Objectives:\n",
    "* List popular languages for Data Science\n",
    "* List commonly used libraries in Data Science\n",
    "* List popular tools in Data Science\n",
    "* Show some arithmetic expressions in Python is Jupyter Notebook\n"
   ]
  },
  {
   "cell_type": "markdown",
   "id": "becb10e2-628e-4087-91c4-a679bac684ba",
   "metadata": {},
   "source": [
    "Some of the popular languages that Data Scientists use are:\n",
    "1. Python\n",
    "2. R\n",
    "3. Scala\n",
    "4. SQL"
   ]
  },
  {
   "cell_type": "markdown",
   "id": "076ecf26-4250-42dd-af83-61fa404cc3c9",
   "metadata": {},
   "source": [
    "Some of the commonly used libraries used by Data Scientists include:\n",
    "* NLTK \n",
    "* Matplotlib\n",
    "* Tensorflow\n",
    "* Numpy\n",
    "* Pandas\n",
    "* Torch\n",
    "\n",
    " "
   ]
  },
  {
   "cell_type": "markdown",
   "id": "07acc2fd-5402-410a-9d9e-3a7dd355c501",
   "metadata": {},
   "source": [
    "|Data Science Tools|\n",
    "|-|\n",
    "Jupyter Notebook\n",
    "RStudio\n",
    "VSCode\n"
   ]
  },
  {
   "cell_type": "markdown",
   "id": "3b0946cd-8134-4176-91a3-4fe8a089876c",
   "metadata": {},
   "source": [
    "### Below are a few examples of evaluating arithmetic expressions in Python"
   ]
  },
  {
   "cell_type": "code",
   "execution_count": 17,
   "id": "bffa6b77-27e5-4990-bb80-032f73a52e37",
   "metadata": {},
   "outputs": [
    {
     "data": {
      "text/plain": [
       "17"
      ]
     },
     "execution_count": 17,
     "metadata": {},
     "output_type": "execute_result"
    }
   ],
   "source": [
    "(3*4)+5\n",
    "# This is a simple arithmetic expression to multiply then add integers"
   ]
  },
  {
   "cell_type": "code",
   "execution_count": 29,
   "id": "b3b5876d-c136-49c1-a264-d308571b8462",
   "metadata": {},
   "outputs": [
    {
     "data": {
      "text/plain": [
       "3.3333333333333335"
      ]
     },
     "execution_count": 29,
     "metadata": {},
     "output_type": "execute_result"
    }
   ],
   "source": [
    "# This will convert 200 minutes to hours by dividing by 60\n",
    "200 / 60"
   ]
  },
  {
   "cell_type": "markdown",
   "id": "0a4825e2-74f5-41aa-86a5-0a1287527923",
   "metadata": {},
   "source": [
    "## Author\n",
    "Nikita Larichev"
   ]
  },
  {
   "cell_type": "code",
   "execution_count": null,
   "id": "cec4484f-a1ee-467b-8fcf-c223d7477cbb",
   "metadata": {},
   "outputs": [],
   "source": []
  }
 ],
 "metadata": {
  "kernelspec": {
   "display_name": "Python 3 (ipykernel)",
   "language": "python",
   "name": "python3"
  },
  "language_info": {
   "codemirror_mode": {
    "name": "ipython",
    "version": 3
   },
   "file_extension": ".py",
   "mimetype": "text/x-python",
   "name": "python",
   "nbconvert_exporter": "python",
   "pygments_lexer": "ipython3",
   "version": "3.11.7"
  }
 },
 "nbformat": 4,
 "nbformat_minor": 5
}
